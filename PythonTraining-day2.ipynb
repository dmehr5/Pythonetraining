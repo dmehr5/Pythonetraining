{
 "cells": [
  {
   "cell_type": "code",
   "execution_count": 1,
   "metadata": {},
   "outputs": [
    {
     "name": "stdout",
     "output_type": "stream",
     "text": [
      "2 3 4\n"
     ]
    }
   ],
   "source": [
    "x=2\n",
    "y=3\n",
    "z=4\n",
    "print(x,y,z)"
   ]
  },
  {
   "cell_type": "code",
   "execution_count": 2,
   "metadata": {},
   "outputs": [
    {
     "name": "stdout",
     "output_type": "stream",
     "text": [
      "2 3 4\n"
     ]
    }
   ],
   "source": [
    "#advance approach of assignment\n",
    "x,y,z=2,3,4\n",
    "print(x,y,z)"
   ]
  },
  {
   "cell_type": "code",
   "execution_count": 3,
   "metadata": {},
   "outputs": [
    {
     "name": "stdout",
     "output_type": "stream",
     "text": [
      "100\n"
     ]
    }
   ],
   "source": [
    "#declaring the constant with capital letters\n",
    "MAX_CONNECT=100\n",
    "print(MAX_CONNECT)"
   ]
  },
  {
   "cell_type": "code",
   "execution_count": 4,
   "metadata": {},
   "outputs": [
    {
     "name": "stdout",
     "output_type": "stream",
     "text": [
      "['hero', 'ranger', 'bmx']\n"
     ]
    }
   ],
   "source": [
    "#List is a mutable datatype\n",
    "#mutable means that variables can be changed once assigned\n",
    "#A list is collection of items in a particular order\n",
    "bicycles=['hero','ranger','bmx']\n",
    "print(bicycles)\n"
   ]
  },
  {
   "cell_type": "code",
   "execution_count": 6,
   "metadata": {},
   "outputs": [
    {
     "name": "stdout",
     "output_type": "stream",
     "text": [
      "['hero', 'ranger', 'bmx']\n",
      "ranger\n",
      "Ranger\n",
      "BMX\n"
     ]
    }
   ],
   "source": [
    "bicycles=['hero','ranger','bmx']\n",
    "print(bicycles)\n",
    "print(bicycles[1])\n",
    "print(bicycles[1].title())\n",
    "print(bicycles[2].upper())"
   ]
  },
  {
   "cell_type": "code",
   "execution_count": 9,
   "metadata": {},
   "outputs": [
    {
     "name": "stdout",
     "output_type": "stream",
     "text": [
      "my first bicycle was Ranger.\n"
     ]
    }
   ],
   "source": [
    "bicycles=['hero','ranger','bmx']\n",
    "message=f\"my first bicycle was {bicycles[1].title()}.\"\n",
    "print(message)"
   ]
  },
  {
   "cell_type": "code",
   "execution_count": 1,
   "metadata": {},
   "outputs": [
    {
     "name": "stdout",
     "output_type": "stream",
     "text": [
      "['honda', 'yamaha', 'suzuki']\n"
     ]
    }
   ],
   "source": [
    "#how to change, add and modify the element in a list..\n",
    "motorcycles=['honda','yamaha','suzuki']\n",
    "print(motorcycles)\n"
   ]
  },
  {
   "cell_type": "code",
   "execution_count": 4,
   "metadata": {},
   "outputs": [
    {
     "name": "stdout",
     "output_type": "stream",
     "text": [
      "['honda', 'yamaha', 'suzuki']\n",
      "['Ducat', 'yamaha', 'suzuki']\n"
     ]
    }
   ],
   "source": [
    "# how to change the elemet in list..\n",
    "motorcycles=['honda','yamaha','suzuki']\n",
    "print (motorcycles)\n",
    "motorcycles[0] = 'Ducat'\n",
    "print (motorcycles)\n"
   ]
  },
  {
   "cell_type": "code",
   "execution_count": 5,
   "metadata": {},
   "outputs": [
    {
     "name": "stdout",
     "output_type": "stream",
     "text": [
      "['honda', 'yamaha', 'suzuki']\n",
      "['honda', 'yamaha', 'suzuki', 'Ducati']\n"
     ]
    }
   ],
   "source": [
    "#how to add or append the elements in the list..\n",
    "motorcycles=['honda','yamaha','suzuki']\n",
    "print (motorcycles)\n",
    "motorcycles.append('Ducati')\n",
    "print(motorcycles)"
   ]
  },
  {
   "cell_type": "code",
   "execution_count": 7,
   "metadata": {},
   "outputs": [
    {
     "name": "stdout",
     "output_type": "stream",
     "text": [
      "['honda', 'yamaha', 'suzuki']\n",
      "['honda', 'ducati', 'yamaha', 'suzuki']\n"
     ]
    }
   ],
   "source": [
    "#if i wanted to insert 'ducati'in the first index position in the above list..\n",
    "motorcycles=['honda','yamaha','suzuki']\n",
    "print (motorcycles)\n",
    "motorcycles.insert(1,'ducati')\n",
    "print(motorcycles)\n"
   ]
  },
  {
   "cell_type": "code",
   "execution_count": 8,
   "metadata": {},
   "outputs": [
    {
     "name": "stdout",
     "output_type": "stream",
     "text": [
      "['audi', 'bmw', 'volvo', 'swift', 'cruze']\n"
     ]
    }
   ],
   "source": [
    "#creating an empty list.. Dynamic creation of a list..\n",
    "car=[]\n",
    "car.append('audi')\n",
    "car.append('bmw')\n",
    "car.append('volvo')\n",
    "car.append('swift')\n",
    "car.append('cruze')\n",
    "print(car)\n"
   ]
  },
  {
   "cell_type": "code",
   "execution_count": 9,
   "metadata": {},
   "outputs": [
    {
     "name": "stdout",
     "output_type": "stream",
     "text": [
      "['honda', 'yamaha', 'suzuki', 'ducati']\n",
      "['honda', 'yamaha', 'ducati']\n"
     ]
    }
   ],
   "source": [
    "#how to delete the elements from the list..\n",
    "motorcycles=['honda','yamaha','suzuki','ducati']\n",
    "print (motorcycles)\n",
    "del motorcycles[2]\n",
    "print(motorcycles)"
   ]
  },
  {
   "cell_type": "code",
   "execution_count": 10,
   "metadata": {},
   "outputs": [
    {
     "name": "stdout",
     "output_type": "stream",
     "text": [
      "['honda', 'yamaha', 'suzuki', 'ducati']\n",
      "['honda', 'yamaha', 'suzuki']\n"
     ]
    }
   ],
   "source": [
    "#pop() fucntion to delete the last index of the list by default...\n",
    "motorcycles=['honda','yamaha','suzuki','ducati']\n",
    "print (motorcycles)\n",
    "motorcycles.pop()\n",
    "print(motorcycles)"
   ]
  },
  {
   "cell_type": "code",
   "execution_count": 11,
   "metadata": {},
   "outputs": [
    {
     "name": "stdout",
     "output_type": "stream",
     "text": [
      "['honda', 'yamaha', 'suzuki', 'ducati']\n",
      "['honda', 'suzuki', 'ducati']\n"
     ]
    }
   ],
   "source": [
    "#pop() fucntion to delete the specific index from the list...\n",
    "motorcycles=['honda','yamaha','suzuki','ducati']\n",
    "print (motorcycles)\n",
    "motorcycles.pop(1)\n",
    "print(motorcycles)"
   ]
  },
  {
   "cell_type": "code",
   "execution_count": 19,
   "metadata": {},
   "outputs": [
    {
     "name": "stdout",
     "output_type": "stream",
     "text": [
      "['ducati', 'honda', 'suzuki', 'yamaha']\n",
      "['ducati', 'hayabusa', 'honda', 'suzuki', 'yamaha']\n"
     ]
    }
   ],
   "source": [
    "#Difference between the pop() and del is that pop() will not delete the items permanently..\n",
    "#deleted item in case of pop() will be stored in a another variable declared... But del will delete the element permanently...\n",
    "#How to sort the elements in a list..\n",
    "motorcycles=['honda','yamaha','suzuki','ducati']\n",
    "motorcycles.sort()\n",
    "print(motorcycles)\n",
    "motorcycles=['honda','hayabusa','yamaha','suzuki','ducati']\n",
    "motorcycles.sort()\n",
    "print(motorcycles)\n"
   ]
  },
  {
   "cell_type": "code",
   "execution_count": 21,
   "metadata": {},
   "outputs": [
    {
     "name": "stdout",
     "output_type": "stream",
     "text": [
      "['ducati', 'hayabusa', 'honda', 'suzuki', 'yamaha']\n",
      "['yamaha', 'suzuki', 'honda', 'hayabusa', 'ducati']\n"
     ]
    }
   ],
   "source": [
    "#how to print the elements reverse order..\n",
    "motorcycles=['honda','hayabusa','yamaha','suzuki','ducati']\n",
    "motorcycles.sort()\n",
    "print(motorcycles)\n",
    "motorcycles.reverse()\n",
    "print(motorcycles)"
   ]
  },
  {
   "cell_type": "code",
   "execution_count": 22,
   "metadata": {},
   "outputs": [
    {
     "data": {
      "text/plain": [
       "5"
      ]
     },
     "execution_count": 22,
     "metadata": {},
     "output_type": "execute_result"
    }
   ],
   "source": [
    "#how to count the element in a list..\n",
    "motorcycles=['honda','hayabusa','yamaha','suzuki','ducati']\n",
    "len(motorcycles)\n"
   ]
  },
  {
   "cell_type": "code",
   "execution_count": null,
   "metadata": {},
   "outputs": [],
   "source": []
  }
 ],
 "metadata": {
  "kernelspec": {
   "display_name": "Python 3",
   "language": "python",
   "name": "python3"
  },
  "language_info": {
   "codemirror_mode": {
    "name": "ipython",
    "version": 3
   },
   "file_extension": ".py",
   "mimetype": "text/x-python",
   "name": "python",
   "nbconvert_exporter": "python",
   "pygments_lexer": "ipython3",
   "version": "3.7.3"
  }
 },
 "nbformat": 4,
 "nbformat_minor": 2
}
